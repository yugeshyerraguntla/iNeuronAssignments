{
 "cells": [
  {
   "cell_type": "markdown",
   "metadata": {},
   "source": [
    "#Q1: 1.1 Write a Python Program(with class concepts) to find the area of the triangle using the below formula."
   ]
  },
  {
   "cell_type": "code",
   "execution_count": 1,
   "metadata": {},
   "outputs": [
    {
     "name": "stdout",
     "output_type": "stream",
     "text": [
      "a=10\n",
      "b=11\n",
      "c=12\n",
      "area : 51.521233486786784\n"
     ]
    }
   ],
   "source": [
    "class value:\n",
    "    def __init__(self,a,b,c):\n",
    "        self.a = float(a)\n",
    "        self.b = float(b)\n",
    "        self.c = float(c)\n",
    "a= int(input(\"a=\"))\n",
    "b= int(input(\"b=\"))\n",
    "c= int(input(\"c=\"))\n",
    "\n",
    "class triangle(value):\n",
    "    def __init__(self,a,b,c):\n",
    "        super().__init__(a,b,c)\n",
    "\n",
    "    def get_area(self):\n",
    "        s = (a + b + c) / 2\n",
    "        return (s*(s-a)*(s-b)*(s-c)) ** 0.5        \n",
    "\n",
    "t = triangle(a,b,c)\n",
    "print(\"area : {}\".format(t.get_area()))"
   ]
  },
  {
   "cell_type": "markdown",
   "metadata": {},
   "source": [
    "#Q1: 1.2 Write a function filter_long_words() that takes a list of words and an integer n and returns the list of words that are longer than n."
   ]
  },
  {
   "cell_type": "code",
   "execution_count": 5,
   "metadata": {},
   "outputs": [
    {
     "name": "stdout",
     "output_type": "stream",
     "text": [
      "Please input the senetence: iNeuron classes and Assignments\n",
      "Please input an integer: 3\n",
      "The list of words greater than the given integer is ['iNeuron', 'classes', 'Assignments']\n"
     ]
    }
   ],
   "source": [
    "def filter_long_words(string,number):\n",
    "    listwords = []\n",
    "    for i in range(len(string)):\n",
    "        if len(string[i]) > number:\n",
    "            listwords.append(string[i])\n",
    "    return listwords\n",
    "\n",
    "def main():\n",
    "    words = input(\"Please input the senetence: \").split()\n",
    "    integer = eval(input(\"Please input an integer: \"))\n",
    "\n",
    "    wordslist = filter_long_words(words,integer)\n",
    "\n",
    "    print(\"The list of words greater than the given integer is\",wordslist)\n",
    "\n",
    "main() "
   ]
  },
  {
   "cell_type": "markdown",
   "metadata": {},
   "source": [
    "#Q2: 2.1 Write a Python program using function concept that maps list of words into a list of integers representing the lengths of the corresponding words."
   ]
  },
  {
   "cell_type": "code",
   "execution_count": 6,
   "metadata": {},
   "outputs": [
    {
     "name": "stdout",
     "output_type": "stream",
     "text": [
      "Please enter the words seperated by ,: abc,defghi,a,d,efg\n",
      "Length of Words are : [3, 6, 1, 1, 3]\n"
     ]
    }
   ],
   "source": [
    "def map_Words_to_Length(List):\n",
    "    return list(map(len, List))\n",
    "\n",
    "word_List=list(input(\"Please enter the words seperated by ,: \").split(\",\"))\n",
    "List=[x.strip() for x in word_List]\n",
    "\n",
    "Words_lengths=map_Words_to_Length(List)\n",
    "\n",
    "print(\"Length of Words are :\",Words_lengths )"
   ]
  },
  {
   "cell_type": "code",
   "execution_count": 11,
   "metadata": {},
   "outputs": [
    {
     "name": "stdout",
     "output_type": "stream",
     "text": [
      "Please enter the words seperated by ,: abc,defghi,a,d,efg\n",
      "Length of Words are : [3, 6, 1, 1, 3]\n"
     ]
    }
   ],
   "source": [
    "def map_Words_to_Length(List):\n",
    "    lengths = []\n",
    "    for word in List:\n",
    "        lengths.append(len(word))\n",
    "    return lengths\n",
    "\n",
    "word_List=list(input(\"Please enter the words seperated by ,: \").split(\",\"))\n",
    "List=[x.strip() for x in word_List]\n",
    "\n",
    "Words_lengths=map_Words_to_Length(List)\n",
    "\n",
    "print(\"Length of Words are :\",Words_lengths )"
   ]
  },
  {
   "cell_type": "markdown",
   "metadata": {},
   "source": [
    "#Q2. 2.2 Write a Python function which takes a character (i.e. a string of length 1) and returns True if\n",
    "it is a vowel, False otherwise."
   ]
  },
  {
   "cell_type": "code",
   "execution_count": 21,
   "metadata": {},
   "outputs": [
    {
     "name": "stdout",
     "output_type": "stream",
     "text": [
      "Input value: D\n",
      "Output value: False\n"
     ]
    }
   ],
   "source": [
    "def vowel_validation(char):\n",
    "    returnval =''\n",
    "    if(len(char)==1):\n",
    "        vowel_list=['a','e','i','o','u']\n",
    "        if(char.lower() in vowel_list):\n",
    "            returnval=True\n",
    "        else:\n",
    "            returnval=False\n",
    "    else:\n",
    "        returnval=\"Please enter single char!\"\n",
    "    return returnval\n",
    "\n",
    "#User Input\n",
    "#print(\"Enter Character to validate:\")\n",
    "input_val = input(\"Input value: \")\n",
    "output_val = vowel_validation(input_val)\n",
    "\n",
    "print(\"Output value:\",output_val)"
   ]
  },
  {
   "cell_type": "code",
   "execution_count": null,
   "metadata": {},
   "outputs": [],
   "source": []
  }
 ],
 "metadata": {
  "kernelspec": {
   "display_name": "Python 3",
   "language": "python",
   "name": "python3"
  },
  "language_info": {
   "codemirror_mode": {
    "name": "ipython",
    "version": 3
   },
   "file_extension": ".py",
   "mimetype": "text/x-python",
   "name": "python",
   "nbconvert_exporter": "python",
   "pygments_lexer": "ipython3",
   "version": "3.8.5"
  }
 },
 "nbformat": 4,
 "nbformat_minor": 4
}
